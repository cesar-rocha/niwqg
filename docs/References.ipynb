{
 "cells": [
  {
   "cell_type": "markdown",
   "metadata": {},
   "source": [
    "# References"
   ]
  },
  {
   "cell_type": "markdown",
   "metadata": {},
   "source": [
    "Xie, J.-H. & Vanneste, J., 2015: A generalised Lagrangian-mean model of the interactions between\n",
    "near-inertial waves and mean flow. J. Fluid Mech. 774, 143–169. https://doi.org/10.1017/jfm.2015.251."
   ]
  },
  {
   "cell_type": "markdown",
   "metadata": {},
   "source": [
    "Rocha, C. B.,  Wagner G. L., & Young, W. R.: Near-inertial waves extract energy from barotropic quasigeostrophic flow, in preparation for J. Fluid Mech."
   ]
  },
  {
   "cell_type": "code",
   "execution_count": null,
   "metadata": {},
   "outputs": [],
   "source": []
  }
 ],
 "metadata": {
  "kernelspec": {
   "display_name": "Python 3",
   "language": "python",
   "name": "python3"
  },
  "language_info": {
   "codemirror_mode": {
    "name": "ipython",
    "version": 3
   },
   "file_extension": ".py",
   "mimetype": "text/x-python",
   "name": "python",
   "nbconvert_exporter": "python",
   "pygments_lexer": "ipython3",
   "version": "3.6.0"
  }
 },
 "nbformat": 4,
 "nbformat_minor": 2
}
