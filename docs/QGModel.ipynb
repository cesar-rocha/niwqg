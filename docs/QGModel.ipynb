{
 "cells": [
  {
   "cell_type": "markdown",
   "metadata": {},
   "source": [
    "# Barotropic quasigeostrophic model"
   ]
  },
  {
   "cell_type": "markdown",
   "metadata": {},
   "source": [
    "### Model equations\n",
    "The QGModel class solves the two-dimensional equation\n",
    "\n",
    "\\begin{equation}\\tag{1}\n",
    "q_t + \\beta \\psi_x + J(\\psi,q) =  \\nu \\triangle q -\\nu_4 \\triangle^2 q - \\mu q  \\,,\n",
    "\\end{equation}\n",
    "\n",
    "where the vorticity, $q$, is related to the streamfunction via the inversion relation\n",
    "\n",
    "\\begin{equation}\\tag{2}\n",
    "q = \\triangle \\psi\\, .\n",
    "\\end{equation}\n"
   ]
  },
  {
   "cell_type": "markdown",
   "metadata": {},
   "source": [
    "### Power integrals"
   ]
  },
  {
   "cell_type": "markdown",
   "metadata": {},
   "source": [
    "The kinetic energy, $K_e \\equiv \\langle |\\nabla \\psi|^2 \\rangle/2$, satisfies\n",
    "\n",
    "\\begin{equation}\\tag{3}\n",
    "\\dot K_e = \\underbrace{-\\nu \\langle|\\nabla \\psi|^2\\rangle + \\nu_4 \\langle q \\triangle q\\rangle - \\mu \\langle |\\nabla \\psi|^2 \\rangle}_{\\equiv\\,\\,\\varepsilon_\\psi}\\,.\n",
    "\\end{equation}\n",
    "\n",
    "The enstrophy, $S_e \\equiv \\langle q^2\\rangle/2$, satisfies\n",
    "\n",
    "\\begin{equation}\\tag{4}\n",
    "\\dot S_e = \\underbrace{-\\beta\\langle q \\psi_x\\rangle}_{\\equiv\\,\\,\\Gamma_q}\\,\\,\\, \\underbrace{-\\nu \\langle|\\nabla q|^2\\rangle - \\nu_4 \\langle (\\triangle q)^2\\rangle - \\mu \\langle q^2 \\rangle}_{\\equiv\\,\\, \\chi_q}\\,.\n",
    "\\end{equation}"
   ]
  },
  {
   "cell_type": "code",
   "execution_count": null,
   "metadata": {
    "collapsed": true
   },
   "outputs": [],
   "source": []
  }
 ],
 "metadata": {
  "kernelspec": {
   "display_name": "Python 3",
   "language": "python",
   "name": "python3"
  },
  "language_info": {
   "codemirror_mode": {
    "name": "ipython",
    "version": 3
   },
   "file_extension": ".py",
   "mimetype": "text/x-python",
   "name": "python",
   "nbconvert_exporter": "python",
   "pygments_lexer": "ipython3",
   "version": "3.6.0"
  }
 },
 "nbformat": 4,
 "nbformat_minor": 2
}
