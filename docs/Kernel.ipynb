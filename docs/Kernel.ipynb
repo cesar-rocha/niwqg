{
 "cells": [
  {
   "cell_type": "markdown",
   "metadata": {},
   "source": [
    "# Single-vertical wavenumber near-inertial wave model "
   ]
  },
  {
   "cell_type": "markdown",
   "metadata": {},
   "source": [
    "### Model equations\n",
    "The Kernel class solves the near-inertial wave equation\n",
    "\n",
    "\\begin{equation}\\tag{1}\n",
    "\\phi_t + J(\\psi,\\phi) + \\tfrac{\\mathrm{i}}{2}\\phi\\triangle\\psi - \\tfrac{\\mathrm{i}}{2}f_0\\lambda^2 \\triangle\\phi=  \\nu_w \\triangle \\phi -\\nu_{4w} \\triangle^2 \\phi - \\mu_w \\phi  \\,,\n",
    "\\end{equation}\n",
    "where $\\phi$ is the near-inertial velocity\n",
    "\\begin{equation}\\tag{2}\n",
    "u_w + \\mathrm{i}v_w = \\phi(x,y,t)\\,\\exp[\\mathrm{i}(m\\,z - f_0 t)]\\,,\n",
    "\\end{equation}\n",
    "and $\\lambda \\equiv \\tfrac{N_0}{f_0 m}$ is an intrinsic horizontal scale.\n",
    "\n",
    "The flow, $\\psi$, is quasigeostrophic and its dynamics and inversion relationship varies with model subclass.\n",
    "\n",
    "#### YBJModel\n",
    "In this subclass, the flow is steady and its prescribed as an initial condition.\n",
    "\n",
    "#### UnCoupledModel\n",
    "In this subclass, the flow evolves through standard quasigeostrophic dynamics: \n",
    "\n",
    "\\begin{equation}\\tag{3}\n",
    "q_t  + J(\\psi,q) =  \\nu \\triangle q -\\nu_4 \\triangle^2 q - \\mu q  \\,,\n",
    "\\end{equation}\n",
    "\n",
    "where the vorticity, $q$, is related to the streamfunction via the inversion relation\n",
    "\n",
    "\\begin{equation}\\tag{4}\n",
    "q = \\triangle \\psi\\, .\n",
    "\\end{equation}\n",
    "\n",
    "#### CoupledModel\n",
    "In this subclass, waves feedback into the geostrophic flow via the inversion relationship:\n",
    "\n",
    "\\begin{equation}\\tag{5}\n",
    "q = \\triangle \\psi +\\, \\tfrac{1}{2}\\left[\\triangle \\tfrac{1}{2}|\\phi|^2 + \\mathrm{i}J(\\phi^{\\star},\\phi)\\right] \\,,\n",
    "\\end{equation}\n",
    "where the potential vorticity, $q$, is governed by (3)."
   ]
  },
  {
   "cell_type": "code",
   "execution_count": null,
   "metadata": {},
   "outputs": [],
   "source": []
  }
 ],
 "metadata": {
  "kernelspec": {
   "display_name": "Python 3",
   "language": "python",
   "name": "python3"
  },
  "language_info": {
   "codemirror_mode": {
    "name": "ipython",
    "version": 3
   },
   "file_extension": ".py",
   "mimetype": "text/x-python",
   "name": "python",
   "nbconvert_exporter": "python",
   "pygments_lexer": "ipython3",
   "version": "3.6.0"
  }
 },
 "nbformat": 4,
 "nbformat_minor": 2
}
