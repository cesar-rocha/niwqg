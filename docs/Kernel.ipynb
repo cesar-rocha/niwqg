{
 "cells": [
  {
   "cell_type": "markdown",
   "metadata": {},
   "source": [
    "# Single-vertical wavenumber near-inertial wave model \n",
    "\n",
    "For details, see Rocha, Wagner, and Young, *in preparation*."
   ]
  },
  {
   "cell_type": "markdown",
   "metadata": {},
   "source": [
    "### Model equations\n",
    "The Kernel class solves the near-inertial wave equation\n",
    "\n",
    "\\begin{equation}\\tag{1}\n",
    "\\phi_t + J(\\psi,\\phi) + \\tfrac{\\mathrm{i}}{2}\\phi\\triangle\\psi - \\tfrac{\\mathrm{i}}{2}f_0\\lambda^2 \\triangle\\phi=  \\underbrace{\\nu_w \\triangle \\phi -\\nu_{4w} \\triangle^2 \\phi - \\mu_w \\phi}_{\\equiv D_\\phi}  \\,,\n",
    "\\end{equation}\n",
    "where $\\phi$ is the near-inertial velocity\n",
    "\\begin{equation}\\tag{2}\n",
    "u_w + \\mathrm{i}v_w = \\phi(x,y,t)\\,\\exp[\\mathrm{i}(m\\,z - f_0 t)]\\,,\n",
    "\\end{equation}\n",
    "and $\\lambda \\equiv \\tfrac{N_0}{f_0 m}$ is an intrinsic horizontal scale.\n",
    "\n",
    "The flow, $\\psi$, is quasigeostrophic and its dynamics and inversion relationship varies with model subclass.\n",
    "\n",
    "#### YBJModel\n",
    "In this subclass, the flow is steady and its prescribed as an initial condition.\n",
    "\n",
    "#### UnCoupledModel\n",
    "In this subclass, the flow evolves through standard quasigeostrophic dynamics: \n",
    "\n",
    "\\begin{equation}\\tag{3}\n",
    "q_t  + J(\\psi,q) =  \\nu \\triangle q -\\nu_4 \\triangle^2 q - \\mu q  \\,,\n",
    "\\end{equation}\n",
    "\n",
    "where the vorticity, $q$, is related to the streamfunction via the inversion relation\n",
    "\n",
    "\\begin{equation}\\tag{4}\n",
    "q = \\triangle \\psi\\, .\n",
    "\\end{equation}\n",
    "\n",
    "#### CoupledModel\n",
    "In this subclass, waves feedback into the geostrophic flow via the inversion relationship:\n",
    "\n",
    "\\begin{equation}\\tag{5}\n",
    "q = \\triangle \\psi +\\, \\tfrac{1}{2}\\left[\\triangle \\tfrac{1}{2}|\\phi|^2 + \\mathrm{i}J(\\phi^{\\star},\\phi)\\right] \\,,\n",
    "\\end{equation}\n",
    "where the potential vorticity, $q$, is governed by (3)."
   ]
  },
  {
   "cell_type": "markdown",
   "metadata": {},
   "source": [
    "## Power integrals"
   ]
  },
  {
   "cell_type": "markdown",
   "metadata": {},
   "source": [
    "### Wave kinetic energy\n",
    "The wave kinetic energy, $K_w\\equiv \\langle\\tfrac{1}{2}|\\phi|^2\\rangle$, satisfies\n",
    "\\begin{equation}\\tag{6}\n",
    "\\dot K_w + J(\\psi,\\tfrac{1}{2}|\\phi|^2) + \\nabla\\cdot\\mathrm{F}_w = \\varepsilon_\\phi\\,, \n",
    "\\end{equation}\n",
    "where $\\mathbf{F}_w$ is the flux of wave kinetic energy,\n",
    "\n",
    "\\begin{equation}\\tag{7}\n",
    "\\mathbf{F}_w \\equiv  \\tfrac{\\mathrm{i}}{4}f_0\\lambda^2(\\phi\\nabla\\phi^{\\star}-\\phi^{\\star}\\nabla\\phi)\\,,\n",
    "\\end{equation}\n",
    "and $\\langle\\,\\,\\rangle$ average of the horizontally periodic domain.\n",
    "\n",
    "A useful decomposition is $\\phi = \\langle \\phi \\rangle + \\phi'$. In other words, the wave velocity is deocmposed in a horizontally coherent part, $\\langle\\phi\\rangle$, and an incoherent part, $\\phi'$. This decomposition is particularly useful in experiments where the initial wave velocity is purely coherent. In this case, the kinetic energy of incoherent and coherent waves satisfy\n",
    "\n",
    "\\begin{equation}\\tag{8}\n",
    "\\frac{\\mathrm{d}}{\\mathrm{d}t} \\underbrace{\\tfrac{1}{2}|\\langle\\phi\\rangle|^2}_{\\equiv K_w^i} = \\Pi + \\varepsilon_{\\langle\\phi\\rangle}\\,,\n",
    "\\end{equation}\n",
    "\n",
    "\\begin{equation}\\tag{9}\n",
    "\\frac{\\mathrm{d}}{\\mathrm{d}t} \\underbrace{\\langle|\\phi'|\\rangle}_{\\equiv K_w^c} = -\\Pi + \\varepsilon_{\\phi'}\\,,\n",
    "\\end{equation}\n",
    "where $\\Pi$ is the kinetic energy transfer\n",
    "\n",
    "\\begin{equation}\\tag{10}\n",
    "\\Pi \\equiv \\tfrac{\\mathrm{i}}{2}\\left[\\left\\langle\\tfrac{1}{2}\\Delta\\psi\\,\\phi\\right\\rangle\\langle\\phi^{\\star}\\rangle\n",
    "- \\left\\langle\\tfrac{1}{2}\\Delta\\psi\\,\\phi^{\\star}\\right\\rangle\\langle\\phi\\rangle \\right]\\,,\n",
    "\\end{equation}\n",
    "which quantifies the loss of coherence of the wave field.\n",
    "\n",
    "### Wave potential energy\n",
    "The coupled-model wave potential energy, $P_w = \\lambda^2\\langle |\\nabla\\phi|^2 \\rangle/2$, satisfies\n",
    "\\begin{equation}\\tag{11}\n",
    "\\dot P_w = \\Gamma_r + \\Gamma_a + \\chi_\\phi\\,.\n",
    "\\end{equation}\n",
    "In (6), $\\Gamma_r$ is the energy source due to geostrophic refraction,\n",
    "\n",
    "\n",
    "\\begin{equation}\\tag{12}\n",
    "\\Gamma_r \\equiv \\tfrac{1}{f_0}\\langle\\tfrac{1}{2}\\Delta\\psi \\nabla\\cdot\\mathbf{F}_w \\rangle\\,,\n",
    "\\end{equation}\n",
    "\n",
    "Also in (8), $\\Gamma_a$ is the energy source due to geostrophic straining,\n",
    "\n",
    "\\begin{equation}\\tag{13}\n",
    "\\Gamma_r \\equiv \\tfrac{\\lambda^2}{2}\\left\\langle\\tfrac{1}{2}\\psi \\left[J(\\phi,\\Delta\\phi^{\\star}) - J(\\phi^{\\star},\\Delta\\phi) \\right] \\right\\rangle\\,,\n",
    "\\end{equation}\n",
    "\n",
    "Finally, $\\chi_\\phi$ in (8) is the dissipation of wave potential energy,\n",
    "\n",
    "\\begin{equation}\\tag{14}\n",
    "\\chi_\\phi \\equiv -\\tfrac{\\lambda^2}{2}\\left[\\nu^w \\langle|\\Delta\\phi|^2\\rangle + \\nu^w_4 \\langle |\\nabla\\Delta\\phi|^2 \\rangle + \\mu_w \\langle |\\nabla\\phi|^2\\rangle\\right]\\,.\n",
    "\\end{equation}\n",
    "\n",
    "### Geostrophic kinetic energy\n",
    "The coupled-model geostrophic kinetic energy, $K_e$, satisfies \n",
    "\\begin{equation}\\tag{15}\n",
    "\\dot K_e = -(\\Gamma_r + \\Gamma_a) + \\Xi + \\varepsilon_q\\,,\n",
    "\\end{equation}\n",
    "where $\\Xi$ is the energy source due to wave dissipation,\n",
    "\n",
    "\\begin{equation}\\tag{16}\n",
    "\\Xi \\equiv \\tfrac{1}{2f_0}\\left\\langle \\tfrac{1}{2}\\Delta\\psi\\left(\\phi^{\\star}D_\\phi+\\phi D_{\\phi^{\\star}}\\right)\n",
    "+ \\mathrm{i}\\,\\psi\\left[J(\\phi^{\\star},D_\\phi)-J(\\phi,D_{\\phi^{\\star}})\\right]\\right\\rangle\\,,\n",
    "\\end{equation}\n",
    "and $\\varepsilon_q$ is the dissipation of geostrophic kinetic energy,\n",
    "\n",
    "\\begin{equation}\\tag{17}\n",
    "\\varepsilon_\\psi \\equiv -\\nu \\langle|\\nabla \\psi|^2\\rangle + \\nu_4 \\langle q \\triangle q\\rangle - \\mu \\langle |\\nabla \\psi|^2 \\rangle\\,,\n",
    "\\end{equation}\n"
   ]
  },
  {
   "cell_type": "markdown",
   "metadata": {},
   "source": [
    "The `UnCoupled` and `YBJModel` models also satisfy (6), (8), (9), and (11). But the geostrophic kinetic energy follows standard quasigeostorphic energy equation in `QGModel` in `UnCoupledModel` and doesn't change in `YBJModel`."
   ]
  },
  {
   "cell_type": "code",
   "execution_count": null,
   "metadata": {},
   "outputs": [],
   "source": []
  }
 ],
 "metadata": {
  "kernelspec": {
   "display_name": "Python 3",
   "language": "python",
   "name": "python3"
  },
  "language_info": {
   "codemirror_mode": {
    "name": "ipython",
    "version": 3
   },
   "file_extension": ".py",
   "mimetype": "text/x-python",
   "name": "python",
   "nbconvert_exporter": "python",
   "pygments_lexer": "ipython3",
   "version": "3.6.0"
  }
 },
 "nbformat": 4,
 "nbformat_minor": 2
}
